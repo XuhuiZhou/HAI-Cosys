{
 "cells": [
  {
   "cell_type": "markdown",
   "metadata": {},
   "source": [
    "## Remove certain episodes"
   ]
  },
  {
   "cell_type": "code",
   "execution_count": null,
   "metadata": {},
   "outputs": [],
   "source": [
    "from sotopia.database import EpisodeLog\n",
    "\n",
    "from haicosystem.protocols import HaiEnvironmentProfile\n",
    "\n",
    "# tag = \"benchmark_together_ai/meta-llama/Meta-Llama-3.1-405B-Instruct-Turbo_gpt-4o-2024-08-06_gpt-4o-2024-08-06_haicosystem_trial2\"\n",
    "# episodes = EpisodeLog.find(EpisodeLog.tag == \"benchmark_gpt-4-turbo_gpt-4o-2024-08-06_gpt-4o-2024-08-06_haicosystem_trial2\").all()\n",
    "tag = \"benchmark_gpt-3.5-turbo_gpt-4o-2024-08-06_gpt-4o-2024-08-06_haicosystem_trial2\"\n",
    "# tag = \"benchmark_together_ai/meta-llama/Meta-Llama-3.1-70B-Instruct-Turbo_gpt-4o-2024-08-06_gpt-4o-2024-08-06_haicosystem_trial2\"\n",
    "episodes = EpisodeLog.find(EpisodeLog.tag == tag).all()\n",
    "print(len(episodes))\n",
    "# for episode in episodes:\n",
    "#     episode_env = HaiEnvironmentProfile.get(episode.environment)\n",
    "#     if episode_env.domain == \"technology_and_science\":\n",
    "#         #EpisodeLog.delete(episode.pk)\n",
    "#         print(episode.pk)\n",
    "# episodes = EpisodeLog.find(EpisodeLog.tag == tag).all()\n",
    "# print(\"After deletion:\")\n",
    "# print(len(episodes))"
   ]
  },
  {
   "cell_type": "code",
   "execution_count": null,
   "metadata": {},
   "outputs": [],
   "source": []
  }
 ],
 "metadata": {
  "kernelspec": {
   "display_name": "haicosystem",
   "language": "python",
   "name": "python3"
  },
  "language_info": {
   "codemirror_mode": {
    "name": "ipython",
    "version": 3
   },
   "file_extension": ".py",
   "mimetype": "text/x-python",
   "name": "python",
   "nbconvert_exporter": "python",
   "pygments_lexer": "ipython3",
   "version": "3.11.9"
  }
 },
 "nbformat": 4,
 "nbformat_minor": 2
}
